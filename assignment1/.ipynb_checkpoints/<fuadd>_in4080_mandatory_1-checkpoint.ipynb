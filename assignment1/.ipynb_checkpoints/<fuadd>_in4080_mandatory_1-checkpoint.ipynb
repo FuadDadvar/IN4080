{
 "cells": [
  {
   "cell_type": "markdown",
   "metadata": {},
   "source": [
    "# IN4080 - Natural Language processing"
   ]
  },
  {
   "cell_type": "markdown",
   "metadata": {},
   "source": [
    "### Mandatory assignment 1"
   ]
  },
  {
   "cell_type": "markdown",
   "metadata": {},
   "source": [
    "This assignment contains of two parts:\n",
    " - __Part A: Text and frequencies__\n",
    " - __Part B: Text classification__\n",
    " \n",
    " "
   ]
  },
  {
   "cell_type": "markdown",
   "metadata": {},
   "source": [
    "_We import all of our libraries_"
   ]
  },
  {
   "cell_type": "code",
   "execution_count": 279,
   "metadata": {},
   "outputs": [],
   "source": [
    "import nltk\n",
    "from nltk.book import *\n",
    "from nltk.corpus import brown\n",
    "from urllib import request\n",
    "import numpy as np\n",
    "import matplotlib.pyplot as plt\n",
    "import re\n",
    "from collections import Counter\n",
    "import itertools\n",
    "import pandas as pd\n"
   ]
  },
  {
   "cell_type": "markdown",
   "metadata": {},
   "source": [
    "### Part A: Text and frequencies"
   ]
  },
  {
   "cell_type": "markdown",
   "metadata": {},
   "source": [
    "__Exercise 1__ : Conditional frequency distributions"
   ]
  },
  {
   "cell_type": "markdown",
   "metadata": {},
   "source": [
    "__a)__ Conduct a similar experiment as the one mentioned above with the genres: news, religion, government, fiction, romance as conditions, and occurrences of the words: he, she, her, him, as events. Make a table of the conditional frequencies and deliver code and table."
   ]
  },
  {
   "cell_type": "code",
   "execution_count": 150,
   "metadata": {},
   "outputs": [
    {
     "name": "stdout",
     "output_type": "stream",
     "text": [
      "            he she her him \n",
      "   fiction 813 280 397 375 \n",
      "government 120   0   3  25 \n",
      "      news 451  42 103  93 \n",
      "  religion 137  10   8  60 \n",
      "   romance 702 496 651 339 \n"
     ]
    }
   ],
   "source": [
    "genres = ['news','religion','government','fiction','romance']\n",
    "pronouns = ['he','she','her','him']\n",
    "\n",
    "cfd = nltk.ConditionalFreqDist((genre,word)for genre in genres\n",
    "                               for word in brown.words(categories=genre))\n",
    "cfd.tabulate(samples=pronouns)"
   ]
  },
  {
   "cell_type": "markdown",
   "metadata": {},
   "source": [
    "__b)__ Answer in words what you see. How does gender vary with the genres?"
   ]
  },
  {
   "cell_type": "markdown",
   "metadata": {},
   "source": [
    "It is clearly that the word 'he' is used quite more than 'she', 'her', 'him' in all genres. The reason for that can be that there are many more men that represents the main character in most of the genres, especially these genres we are looking at right now. But we can also see that the feminine objective is used more than 'him' in the genre of romance, but used less in religion and government. This does make sense, due to that most of romance genres is more woman oriented rather then men while the matter is total oppsite in the case of religion and government.\n",
    "\n",
    "\n",
    "__Ha__: _The relative frequency of the objective form, her, of the feminine personal pronoun (she or her) is higher than the relative frequency of the objective form, him, of the masculine personal pronoun, (he or him)._"
   ]
  },
  {
   "cell_type": "markdown",
   "metadata": {},
   "source": [
    "__c)__ First, consider the complete Brown corpus. Construct a conditional frequency distribution, which uses gender as condition, and for each gender counts the occurrences of nominative forms (he, she) and objective forms (him, her). Report the results in a two by two table. Then calculate the relative frequency of her from she or her, and compare to the relative frequency of him from he or him. Report the numbers. Submit table, numbers and code you used."
   ]
  },
  {
   "cell_type": "code",
   "execution_count": 151,
   "metadata": {},
   "outputs": [
    {
     "name": "stdout",
     "output_type": "stream",
     "text": [
      "         he  she  her  him \n",
      "Female    0 2860 3036    0 \n",
      "  Male 9548    0    0 2619 \n"
     ]
    }
   ],
   "source": [
    "genders = ['Male', 'Female']\n",
    "\n",
    "cfd = nltk.ConditionalFreqDist()\n",
    "for word in brown.words():\n",
    "    word = word.lower()\n",
    "    if word == 'he' or word == 'him':\n",
    "        cfd[genders[0]][word] += 1\n",
    "    if word == 'she' or word == 'her':\n",
    "        cfd[genders[1]][word] += 1\n",
    "cfd.tabulate(samples = pronouns)"
   ]
  },
  {
   "cell_type": "code",
   "execution_count": 152,
   "metadata": {},
   "outputs": [
    {
     "name": "stdout",
     "output_type": "stream",
     "text": [
      "Relative frequency of him: 0.21525\n",
      "Relative frequency of her: 0.51493\n"
     ]
    }
   ],
   "source": [
    "def summationn(gender):\n",
    "    sum_frequency = 0\n",
    "    for i in cfd[gender]:\n",
    "        sum_frequency += cfd[gender][i]\n",
    "    return sum_frequency\n",
    "\n",
    "male_relative_frequency = cfd['Male']['him']/(summationn('Male'))\n",
    "female_relative_frequency = cfd['Female']['her']/(summationn('Female'))\n",
    "\n",
    "print(f'Relative frequency of him: {male_relative_frequency:3.5f}')\n",
    "print(f'Relative frequency of her: {female_relative_frequency:3.5f}')"
   ]
  },
  {
   "cell_type": "markdown",
   "metadata": {},
   "source": [
    "It is tempting to conclude from this that the objective form of the feminine pronoun is relatively more frequent than the objective form of the male pronoun. Beware, however, her is not only the feminine equivalent of him, but also of his. So what can we do? We could do a similar calculation as in point (b), comparing the relative frequency of her –not to the relative frequency of him –but compare her + hers to him + his. That might give relevant information, but it does not check the hypothesis, __Ha__\n"
   ]
  },
  {
   "cell_type": "markdown",
   "metadata": {},
   "source": [
    "__d)__"
   ]
  },
  {
   "cell_type": "code",
   "execution_count": 153,
   "metadata": {},
   "outputs": [
    {
     "name": "stdout",
     "output_type": "stream",
     "text": [
      "      him  her  his  she hers   he \n",
      " DET    0 1929 6957    0    0    0 \n",
      "PRON 2619 1107    0 2860    0 9546 \n"
     ]
    }
   ],
   "source": [
    "tag_brown = [x for x in brown.tagged_words(tagset='universal')]\n",
    "\n",
    "PP_pron = ['she','he','her','him']\n",
    "POSS_pron = ['her','his','hers']\n",
    "Tot_pron = set(PP_pron + POSS_pron )\n",
    "\n",
    "cfd_new = nltk.ConditionalFreqDist()\n",
    "\n",
    "def new_CFD(pronLst, pronType):\n",
    "    for i in range(len(tag_brown)):\n",
    "        word = tag_brown[i][0].lower()\n",
    "        if word in pronLst and tag_brown[i][1] == pronType:\n",
    "            cfd_new[tag_brown[i][1]][word] += 1\n",
    "new_CFD(PP_pron,'PRON')\n",
    "new_CFD(POSS_pron,'DET')\n",
    "\n",
    "cfd_new.tabulate(samples = Tot_pron)"
   ]
  },
  {
   "cell_type": "markdown",
   "metadata": {},
   "source": [
    "__e)__ We can now correct the numbers from point (b) above. How large percentage of the feminine personal pronoun occurs in nominative form and in objective form? What are the comparable percentages for the masculine personal pronoun?"
   ]
  },
  {
   "cell_type": "code",
   "execution_count": 154,
   "metadata": {},
   "outputs": [
    {
     "name": "stdout",
     "output_type": "stream",
     "text": [
      "Relative frequency of him as possessive pronoun: 0.00000\n",
      "Relative frequency of her as possessive pronoun: 0.21708\n",
      "Relative frequency of her as objective pronoun: 0.57387\n"
     ]
    }
   ],
   "source": [
    "def summation(typPron,lstPron):\n",
    "    sum_frequency = 0\n",
    "    for word in lstPron:\n",
    "        sum_frequency += cfd_new[typPron][word]\n",
    "    return sum_frequency\n",
    "\n",
    "\n",
    "#'d_her' stands for determiner her, \n",
    "#'p_her' stands for pronoun her,\n",
    "#'n_she' stands for noun she.\n",
    "d_her = cfd_new['DET']['her']/summation('DET',POSS_pron) \n",
    "p_her = cfd_new['PRON']['her']/summation('DET',PP_pron)\n",
    "n_she = cfd_new['PRON']['she']/summation('PRON',PP_pron)\n",
    "\n",
    "\n",
    "d_him = cfd_new['DET']['him']/summation('DET',POSS_pron) \n",
    "n_he = cfd_new['PRON']['he']/summation('PRON',PP_pron)\n",
    "\n",
    "print(f'Relative frequency of him as possessive pronoun: {d_him:3.5f}')\n",
    "print(f'Relative frequency of her as possessive pronoun: {d_her:3.5f}')\n",
    "print(f'Relative frequency of her as objective pronoun: {p_her:3.5f}')"
   ]
  },
  {
   "cell_type": "markdown",
   "metadata": {},
   "source": [
    "__f)__ Illustrate the numbers from (d) with a bar chart."
   ]
  },
  {
   "cell_type": "code",
   "execution_count": 155,
   "metadata": {},
   "outputs": [
    {
     "data": {
      "image/png": "[encoded data removed]",
      "text/plain": [
       "<Figure size 432x288 with 1 Axes>"
      ]
     },
     "metadata": {
      "needs_background": "light"
     },
     "output_type": "display_data"
    }
   ],
   "source": [
    "xticks = cfd_new.keys()\n",
    "\n",
    "x = np.arange(0,len(cfd_new.keys()))\n",
    "h = np.zeros(len(cfd_new.keys()))\n",
    "\n",
    "for i, p in enumerate(Tot_pron):\n",
    "    y = []\n",
    "    for j, genre in enumerate(['DET','PRON']):\n",
    "        y.append(cfd_new[genre][p])\n",
    "    plt.bar(x,y, label = p, bottom = h)\n",
    "    h += y\n",
    "plt.xticks(np.arange(0, len(xticks)), xticks)\n",
    "plt.legend()\n",
    "plt.show()"
   ]
  },
  {
   "cell_type": "markdown",
   "metadata": {},
   "source": [
    "__g)__ The Brown corpus is an electronic collection of text samples of American English, the first major structured corpus of varied genres. It was published back in 1961. And in that time more of masculine pronouns were more frequent than feminine pronoun in general. E.g government and religion were two of those fields were masculine pronouns were dominant, we can see that as well in our data analysis. Given in __(a)__ the pronoun _\"her\"_ and _\"she\"_ is mentioned about three times in the genre of government. And in task __(f)__ we can see that _\"her\"_ is distributed over two times for possessive and objetive pronouns. Which tells the difference between masculine and feminine pronouns in this age of time and what matter it cost for these genres, that in that time age the masculine pronouns were the dominant pronouns in these genres.  "
   ]
  },
  {
   "cell_type": "markdown",
   "metadata": {},
   "source": [
    "__Exercise 2__ : Downloading texts and Zipf’s law"
   ]
  },
  {
   "cell_type": "markdown",
   "metadata": {},
   "source": [
    "__a)__ We open up the URL by using urllib package using request. "
   ]
  },
  {
   "cell_type": "code",
   "execution_count": 156,
   "metadata": {},
   "outputs": [],
   "source": [
    "url = \"http://www.gutenberg.org/files/74/74-0.txt\"\n",
    "response = request.urlopen(url)\n",
    "raw = response.read().decode('utf-8')\n",
    "\n",
    "# We will split the data to a list by following command.\n",
    "raw_data_list = raw.split()"
   ]
  },
  {
   "cell_type": "markdown",
   "metadata": {},
   "source": [
    "__b)__ Do some clean up and slice up the file so that we exclude preamble,appendix and copyrights section."
   ]
  },
  {
   "cell_type": "code",
   "execution_count": 157,
   "metadata": {},
   "outputs": [],
   "source": [
    "# Marking where start and end will be so that \n",
    "# we'll slice later in raw_data_list.\n",
    "\n",
    "Remove_start = [i for i in range(len(raw_data_list)) if raw_data_list[i]== \"1876.\"]\n",
    "Remove_end = [i for i in range(len(raw_data_list)) if raw_data_list[i]==\"***\"]\n",
    "\n",
    "#Slicing so that we exclude preamble,appendix and copyrights. \n",
    "raw_data_list = raw_data_list[Remove_start[0]+1:Remove_end[2]]"
   ]
  },
  {
   "cell_type": "markdown",
   "metadata": {},
   "source": [
    "__c)__"
   ]
  },
  {
   "cell_type": "code",
   "execution_count": 163,
   "metadata": {},
   "outputs": [],
   "source": [
    "#Initiate nltk for all tokens.\n",
    "tokens = nltk.word_tokenize(raw)\n",
    "\n",
    "#Removing all dots.\n",
    "tokens = [token.replace('.','') for token in tokens]\n",
    "\n",
    "#Removing all underscores\n",
    "tokens = [token.replace('_','')for token in tokens]\n",
    "\n",
    "#Remove all punctuations\n",
    "Pat_punc = re.compile('^\\&$-+')\n",
    "tokens = [token for token in tokens if not Pat_punc.match(token)]\n",
    "\n",
    "#Removing empty lines\n",
    "tokens = [token for token in tokens if token != '']\n",
    "tokens = [token.lower() for token in tokens]"
   ]
  },
  {
   "cell_type": "markdown",
   "metadata": {},
   "source": [
    "__d)__ Use the nltk.FreqDist() to count the words. Report the 20 most frequent words in a table with their absolute frequencies."
   ]
  },
  {
   "cell_type": "code",
   "execution_count": 187,
   "metadata": {},
   "outputs": [
    {
     "name": "stdout",
     "output_type": "stream",
     "text": [
      "Pos: 0 , Token: \" , \" , Freq: 5080 \n",
      "Pos: 1 , Token: \" the \" , Freq: 3939 \n",
      "Pos: 2 , Token: \" and \" , Freq: 3072 \n",
      "Pos: 3 , Token: \" ’ \" , Freq: 2435 \n",
      "Pos: 4 , Token: \" a \" , Freq: 1874 \n",
      "Pos: 5 , Token: \" to \" , Freq: 1795 \n",
      "Pos: 6 , Token: \" of \" , Freq: 1587 \n",
      "Pos: 7 , Token: \" “ \" , Freq: 1534 \n",
      "Pos: 8 , Token: \" ” \" , Freq: 1527 \n",
      "Pos: 9 , Token: \" it \" , Freq: 1283 \n",
      "Pos: 10 , Token: \" he \" , Freq: 1234 \n",
      "Pos: 11 , Token: \" was \" , Freq: 1168 \n",
      "Pos: 12 , Token: \" that \" , Freq: 1011 \n",
      "Pos: 13 , Token: \" in \" , Freq: 1008 \n",
      "Pos: 14 , Token: \" i \" , Freq: 962 \n",
      "Pos: 15 , Token: \" you \" , Freq: 944 \n",
      "Pos: 16 , Token: \" s \" , Freq: 867 \n",
      "Pos: 17 , Token: \" his \" , Freq: 819 \n",
      "Pos: 18 , Token: \" tom \" , Freq: 798 \n",
      "Pos: 19 , Token: \" with \" , Freq: 689 \n",
      "Pos: 20 , Token: \" t \" , Freq: 671 \n"
     ]
    }
   ],
   "source": [
    "Frq_dist = nltk.FreqDist(tokens)\n",
    "twenty_most_freq_words = Frq_dist.most_common(21)\n",
    "\n",
    "for i, (word, freq) in enumerate(twenty_most_freq_words):\n",
    "    print(f'Pos: {i} , Token: \" {word} \" , Freq: {freq} ')\n",
    "    \n",
    "\n",
    "    \n"
   ]
  },
  {
   "cell_type": "markdown",
   "metadata": {},
   "source": [
    "__e)__ \n",
    "Consider the frequencies of frequencies. How many words occur only 1 time? How many words occur n times, etc. for n = 1, 2, ..., 10; how many words have between 11 and 50 occurrences; how many have 51-100 occurrences; and how many words have more than 100 occurrences? Report in a table!"
   ]
  },
  {
   "cell_type": "code",
   "execution_count": 255,
   "metadata": {},
   "outputs": [
    {
     "name": "stdout",
     "output_type": "stream",
     "text": [
      "187\n",
      "Frequency: 1, number of words: 4675\n",
      "Frequency: 2, number of words: 1315\n",
      "Frequency: 3, number of words: 624\n",
      "Frequency: 4, number of words: 426\n",
      "Frequency: 5, number of words: 232\n",
      "Frequency: 6, number of words: 175\n",
      "Frequency: 7, number of words: 156\n",
      "Frequency: 8, number of words: 128\n",
      "Frequency: 9, number of words: 82\n",
      "Frequency: 10, number of words: 88\n",
      "Frequency: 11-50, number of words: 520\n",
      "Frequency: 50-100, number of words: 102\n",
      "Frequency: 100+, number of words: 112\n"
     ]
    }
   ],
   "source": [
    "Lst = []\n",
    "print(len(set(Frq_dist.values())))\n",
    "Count = Counter(Frq_dist.values())\n",
    "for i in range(1,11):\n",
    "    Lst.append([i,Count[i]])\n",
    "    \n",
    "#11-50 times occurence \n",
    "occur_11_50 = [key for key in Count.keys() if 11 <= key <= 50]\n",
    "sum_11_50 = sum(Count[key] for key in occur_11_50)\n",
    "Lst.append(['11-50',sum_11_50])\n",
    "\n",
    "#50-100 times occurence \n",
    "occur_50_100 = [key for key in Count.keys() if 50 <= key <= 100]\n",
    "sum_50_100 = sum(Count[key] for key in occur_50_100)\n",
    "Lst.append(['50-100',sum_50_100])\n",
    "\n",
    "# 100+ times occurence \n",
    "occur_100more = [key for key in Count.keys() if key > 100]\n",
    "sum_100more = sum(Count[key] for key in occur_100more)\n",
    "Lst.append(['100+',sum_100more])\n",
    "\n",
    "for freq, words in Lst:\n",
    "    print(f'Frequency: {freq}, number of words: {words}')"
   ]
  },
  {
   "cell_type": "markdown",
   "metadata": {},
   "source": [
    "__f)__ We order the words by their frequencies, the most frequent word first. Let r be the frequency rank for each word and n its frequency. Hence, the most frequent word gets rank 1, the second most frequent word gets rank two, and so on. According to Zipf’s law, r * n should be nearly constant. Calculate r*n for the 20 most frequent words and report in a table. How well does this fit Zipf’s law? Answer in text.\n"
   ]
  },
  {
   "cell_type": "code",
   "execution_count": 284,
   "metadata": {},
   "outputs": [
    {
     "name": "stdout",
     "output_type": "stream",
     "text": [
      "Rank: 1, r*n: 5080\n",
      "Rank: 2, r*n: 7878\n",
      "Rank: 3, r*n: 9216\n",
      "Rank: 4, r*n: 9740\n",
      "Rank: 5, r*n: 9370\n",
      "Rank: 6, r*n: 10770\n",
      "Rank: 7, r*n: 11109\n",
      "Rank: 8, r*n: 12272\n",
      "Rank: 9, r*n: 13743\n",
      "Rank: 10, r*n: 12830\n",
      "Rank: 11, r*n: 13574\n",
      "Rank: 12, r*n: 14016\n",
      "Rank: 13, r*n: 13143\n",
      "Rank: 14, r*n: 14112\n",
      "Rank: 15, r*n: 14430\n",
      "Rank: 16, r*n: 15104\n",
      "Rank: 17, r*n: 14739\n",
      "Rank: 18, r*n: 14742\n",
      "Rank: 19, r*n: 15162\n",
      "Rank: 20, r*n: 13780\n",
      "Rank: 21, r*n: 14091\n"
     ]
    }
   ],
   "source": [
    "for index, (word,freq) in enumerate(twenty_most_freq_words, 1):\n",
    "    print(f'Rank: {index}, r*n: {(index*freq)}')\n"
   ]
  },
  {
   "cell_type": "markdown",
   "metadata": {},
   "source": [
    "__g__) Try to plot the rank against frequency for all words (not only the 20 most frequent ones). First, make a plot where you use linear scale on the axes. Then try to make a plot similarly to the Wikipedia figure below with logarithmic scales at both axes. Logarithms are available in numpy, using functions functions like log(), for the natural logarithm, and log2() for the base- 2 logarithm. An alternative to using one of these functions is to explore loglog() plotting from matplotlib.pyplot directly."
   ]
  },
  {
   "cell_type": "code",
   "execution_count": 285,
   "metadata": {},
   "outputs": [
    {
     "data": {
      "image/png": "[encoded data removed]",
      "text/plain": [
       "<Figure size 432x288 with 1 Axes>"
      ]
     },
     "metadata": {
      "needs_background": "light"
     },
     "output_type": "display_data"
    }
   ],
   "source": [
    "xlist = (range(1 ,len(Frq_dist) +1))\n",
    "ylist= (Frq_dist.values())\n",
    "ylist.sort(reverse=True) \n",
    "\n",
    "plt.plot(xlist,ylist)\n",
    "plt.show()"
   ]
  },
  {
   "cell_type": "code",
   "execution_count": null,
   "metadata": {},
   "outputs": [],
   "source": []
  }
 ],
 "metadata": {
  "kernelspec": {
   "display_name": "Python 3",
   "language": "python",
   "name": "python3"
  },
  "language_info": {
   "codemirror_mode": {
    "name": "ipython",
    "version": 3
   },
   "file_extension": ".py",
   "mimetype": "text/x-python",
   "name": "python",
   "nbconvert_exporter": "python",
   "pygments_lexer": "ipython3",
   "version": "3.8.5"
  }
 },
 "nbformat": 4,
 "nbformat_minor": 4
}

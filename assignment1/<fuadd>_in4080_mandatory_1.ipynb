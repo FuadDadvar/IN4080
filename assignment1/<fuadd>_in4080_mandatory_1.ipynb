{
 "cells": [
  {
   "cell_type": "markdown",
   "metadata": {},
   "source": [
    "# IN4080 - Natural Language processing"
   ]
  },
  {
   "cell_type": "markdown",
   "metadata": {},
   "source": [
    "Mandatory assignment 1"
   ]
  },
  {
   "cell_type": "markdown",
   "metadata": {},
   "source": [
    "This assignment contains of two parts:\n",
    " - Part A: Text and frequencies\n",
    " - Part B: Text classification\n",
    " \n",
    " "
   ]
  },
  {
   "cell_type": "markdown",
   "metadata": {},
   "source": [
    "We import our library nltk"
   ]
  },
  {
   "cell_type": "code",
   "execution_count": 4,
   "metadata": {},
   "outputs": [
    {
     "name": "stdout",
     "output_type": "stream",
     "text": [
      "*** Introductory Examples for the NLTK Book ***\n",
      "Loading text1, ..., text9 and sent1, ..., sent9\n",
      "Type the name of the text or sentence to view it.\n",
      "Type: 'texts()' or 'sents()' to list the materials.\n",
      "text1: Moby Dick by Herman Melville 1851\n",
      "text2: Sense and Sensibility by Jane Austen 1811\n",
      "text3: The Book of Genesis\n",
      "text4: Inaugural Address Corpus\n",
      "text5: Chat Corpus\n",
      "text6: Monty Python and the Holy Grail\n",
      "text7: Wall Street Journal\n",
      "text8: Personals Corpus\n",
      "text9: The Man Who Was Thursday by G . K . Chesterton 1908\n"
     ]
    }
   ],
   "source": [
    "import nltk\n",
    "from nltk.book import *\n",
    "from nltk.corpus import brown"
   ]
  },
  {
   "cell_type": "markdown",
   "metadata": {},
   "source": [
    "### Part A: Text and frequencies"
   ]
  },
  {
   "cell_type": "markdown",
   "metadata": {},
   "source": [
    "__Exercise 1__ : Conditional frequency distributions"
   ]
  },
  {
   "cell_type": "markdown",
   "metadata": {},
   "source": [
    "__a)__ Conduct a similar experiment as the one mentioned above with the genres: news, religion, government, fiction, romance as conditions, and occurrences of the words: he, she, her, him, as events. Make a table of the conditional frequencies and deliver code and table."
   ]
  },
  {
   "cell_type": "code",
   "execution_count": 5,
   "metadata": {},
   "outputs": [
    {
     "name": "stdout",
     "output_type": "stream",
     "text": [
      "            he she her him \n",
      "   fiction 813 280 397 375 \n",
      "government 120   0   3  25 \n",
      "      news 451  42 103  93 \n",
      "  religion 137  10   8  60 \n",
      "   romance 702 496 651 339 \n"
     ]
    }
   ],
   "source": [
    "genres = ['news','religion','government','fiction','romance']\n",
    "pronouns = ['he','she','her','him']\n",
    "\n",
    "cfd = nltk.ConditionalFreqDist((genre,word)for genre in genres\n",
    "                               for word in brown.words(categories=genre))\n",
    "cfd.tabulate(samples=pronouns)"
   ]
  },
  {
   "cell_type": "markdown",
   "metadata": {},
   "source": [
    "__b)__ Answer in words what you see. How does gender vary with the genres?"
   ]
  },
  {
   "cell_type": "markdown",
   "metadata": {},
   "source": [
    "It is clearly that the word 'he' is used quite more than 'she', 'her', 'him' in all genres. The reason for that can be that there are many more men that represents the main character in most of the genres, especially these genres we are looking at right now. But we can also see that the feminine objective is used more than 'him' in the genre of romance, but used less in religion and government. This does make sense, due to that most of romance genres is more woman oriented rather then men while the matter is total oppsite in the case of religion and government.\n",
    "\n",
    "\n",
    "__Ha__: _The relative frequency of the objective form, her, of the feminine personal pronoun (she or her) is higher than the relative frequency of the objective form, him, of the masculine personal pronoun, (he or him)._"
   ]
  },
  {
   "cell_type": "markdown",
   "metadata": {},
   "source": [
    "__c)__ First, consider the complete Brown corpus. Construct a conditional frequency distribution, which uses gender as condition, and for each gender counts the occurrences of nominative forms (he, she) and objective forms (him, her). Report the results in a two by two table. Then calculate the relative frequency of her from she or her, and compare to the relative frequency of him from he or him. Report the numbers. Submit table, numbers and code you used."
   ]
  },
  {
   "cell_type": "code",
   "execution_count": 6,
   "metadata": {},
   "outputs": [
    {
     "name": "stdout",
     "output_type": "stream",
     "text": [
      "         he  she  her  him \n",
      "Female    0 2860 3036    0 \n",
      "  Male 9548    0    0 2619 \n"
     ]
    }
   ],
   "source": [
    "genders = ['Male', 'Female']\n",
    "\n",
    "cfd = nltk.ConditionalFreqDist()\n",
    "for word in brown.words():\n",
    "    word = word.lower()\n",
    "    if word == 'he' or word == 'him':\n",
    "        cfd[genders[0]][word] += 1\n",
    "    if word == 'she' or word == 'her':\n",
    "        cfd[genders[1]][word] += 1\n",
    "cfd.tabulate(samples = pronouns)"
   ]
  },
  {
   "cell_type": "code",
   "execution_count": 7,
   "metadata": {},
   "outputs": [
    {
     "name": "stdout",
     "output_type": "stream",
     "text": [
      "Relative frequency of him: 0.21525\n",
      "Relative frequency of her: 0.51493\n"
     ]
    }
   ],
   "source": [
    "def summationn(gender):\n",
    "    sum_frequency = 0\n",
    "    for i in cfd[gender]:\n",
    "        sum_frequency += cfd[gender][i]\n",
    "    return sum_frequency\n",
    "\n",
    "male_relative_frequency = cfd['Male']['him']/(summationn('Male'))\n",
    "female_relative_frequency = cfd['Female']['her']/(summationn('Female'))\n",
    "\n",
    "print(f'Relative frequency of him: {male_relative_frequency:3.5f}')\n",
    "print(f'Relative frequency of her: {female_relative_frequency:3.5f}')"
   ]
  },
  {
   "cell_type": "markdown",
   "metadata": {},
   "source": [
    "It is tempting to conclude from this that the objective form of the feminine pronoun is relatively more frequent than the objective form of the male pronoun. Beware, however, her is not only the feminine equivalent of him, but also of his. So what can we do? We could do a similar calculation as in point (b), comparing the relative frequency of her –not to the relative frequency of him –but compare her + hers to him + his. That might give relevant information, but it does not check the hypothesis, __Ha__\n"
   ]
  },
  {
   "cell_type": "markdown",
   "metadata": {},
   "source": [
    "__d)__"
   ]
  },
  {
   "cell_type": "code",
   "execution_count": 21,
   "metadata": {},
   "outputs": [
    {
     "name": "stdout",
     "output_type": "stream",
     "text": [
      "      his   he  she  him  her hers \n",
      " DET 6957    0    0    0 1929    0 \n",
      "PRON    0 9546 2860 2619 1107    0 \n"
     ]
    }
   ],
   "source": [
    "tag_brown = [x for x in brown.tagged_words(tagset='universal')]\n",
    "\n",
    "PP_pron = ['she','he','her','him']\n",
    "POSS_pron = ['her','his','hers']\n",
    "Tot_pron = set(PP_pron + POSS_pron )\n",
    "\n",
    "cfd_new = nltk.ConditionalFreqDist()\n",
    "\n",
    "def new_CFD(pronLst, pronType):\n",
    "    for i in range(len(tag_brown)):\n",
    "        word = tag_brown[i][0].lower()\n",
    "        if word in pronLst and tag_brown[i][1] == pronType:\n",
    "            cfd_new[tag_brown[i][1]][word] += 1\n",
    "new_CFD(PP_pron,'PRON')\n",
    "new_CFD(POSS_pron,'DET')\n",
    "\n",
    "cfd_new.tabulate(samples = Tot_pron)"
   ]
  },
  {
   "cell_type": "markdown",
   "metadata": {},
   "source": [
    "__e)__ We can now correct the numbers from point (b) above. How large percentage of the feminine personal pronoun occurs in nominative form and in objective form? What are the comparable percentages for the masculine personal pronoun?"
   ]
  },
  {
   "cell_type": "code",
   "execution_count": null,
   "metadata": {},
   "outputs": [],
   "source": [
    "def summationn(gender):\n",
    "    sum_frequency = 0\n",
    "    for i in cfd[gender]:\n",
    "        sum_frequency += cfd[gender][i]\n",
    "    return sum_frequency\n",
    "\n",
    "male_relative_frequency = cfd['Male']['him']/(summationn('Male'))\n",
    "female_relative_frequency = cfd['Female']['her']/(summationn('Female'))\n",
    "\n",
    "print(f'Relative frequency of him: {male_relative_frequency:3.5f}')\n",
    "print(f'Relative frequency of her: {female_relative_frequency:3.5f}')"
   ]
  }
 ],
 "metadata": {
  "kernelspec": {
   "display_name": "Python 3",
   "language": "python",
   "name": "python3"
  },
  "language_info": {
   "codemirror_mode": {
    "name": "ipython",
    "version": 3
   },
   "file_extension": ".py",
   "mimetype": "text/x-python",
   "name": "python",
   "nbconvert_exporter": "python",
   "pygments_lexer": "ipython3",
   "version": "3.8.5"
  }
 },
 "nbformat": 4,
 "nbformat_minor": 4
}
